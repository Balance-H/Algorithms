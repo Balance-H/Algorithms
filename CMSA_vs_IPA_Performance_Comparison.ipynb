{
 "cells": [
  {
   "cell_type": "code",
   "execution_count": null,
   "id": "ed9201d7",
   "metadata": {},
   "outputs": [
    {
     "name": "stdout",
     "output_type": "stream",
     "text": [
      "<module 'decom_h' from '/home/jovyan/work/CMSA_IPA_SAHR/libdecom_h.so'>\n"
     ]
    }
   ],
   "source": [
    "import warnings\n",
    "warnings.filterwarnings(\"ignore\", category=UserWarning, message=\"Resolving lazy import graphs\")\n",
    "\n",
    "import time\n",
    "import random\n",
    "import netdecom as nd\n",
    "from sage.graphs.all import *\n",
    "import pandas as pd\n",
    "import importlib.util \n",
    "import sys \n",
    "import os \n",
    "so_path = \"./libdecom_h.so\"\n",
    "module_name = \"decom_h\" \n",
    "spec = importlib.util.spec_from_file_location(module_name, so_path) \n",
    "decom_h = importlib.util.module_from_spec(spec) \n",
    "sys.modules[module_name] = decom_h \n",
    "spec.loader.exec_module(decom_h) "
   ]
  },
  {
   "cell_type": "code",
   "execution_count": null,
   "id": "e70bc7ea-d811-485f-b271-068e9136e097",
   "metadata": {},
   "outputs": [],
   "source": [
    "repeat = 100  \n",
    "\n",
    "results = []\n",
    "\n",
    "for n in [2500,5000,7500,10000]:\n",
    "    for p in [0.1, 0.01, 0.005, 0.001]:\n",
    "        total_cmsa_time, total_ipa_time = 0, 0  \n",
    "\n",
    "        for i in range(repeat):\n",
    "            G_ig = nd.generator_connected_ug(n, p, class_type=\"ig\")\n",
    "            r = random.sample(range(n), 20)\n",
    "\n",
    "\n",
    "            start_time = time.time()\n",
    "            result1 =  decom_h.find_convex_hull(G_ig, r,  method=\"cmsa\")\n",
    "            cmsa_time = time.time() - start_time\n",
    "            total_cmsa_time += cmsa_time  \n",
    "\n",
    "\n",
    "            start_time = time.time()\n",
    "            result2 =  decom_h.find_convex_hull(G_ig, r,  method=\"ipa\")\n",
    "            ipa_time = time.time() - start_time\n",
    "            total_ipa_time += ipa_time  \n",
    "\n",
    "\n",
    "            if result1 != result2:\n",
    "                print(\"Error\")\n",
    "                break\n",
    "\n",
    "            results.append({\n",
    "                'n': n,\n",
    "                'p': p,\n",
    "                'iteration': i + 1,\n",
    "                'cmsa_time': cmsa_time,\n",
    "                'ipa_time': ipa_time\n",
    "            })\n",
    "\n",
    "        avg_cmsa_time = total_cmsa_time / repeat\n",
    "        avg_ipa_time = total_ipa_time / repeat\n",
    "        print(f\"n={n}, p={p}, CMSA average running time={avg_cmsa_time:.4f}, IPA average running time={avg_ipa_time:.4f}\")\n",
    "\n",
    "\n",
    "df = pd.DataFrame(results)\n",
    "df.to_csv('experiment_results.csv', index=False)\n",
    "\n"
   ]
  }
 ],
 "metadata": {
  "kernelspec": {
   "display_name": "Python 3.10 (testpy310)",
   "language": "python",
   "name": "testpy310"
  },
  "language_info": {
   "codemirror_mode": {
    "name": "ipython",
    "version": 3
   },
   "file_extension": ".py",
   "mimetype": "text/x-python",
   "name": "python",
   "nbconvert_exporter": "python",
   "pygments_lexer": "ipython3",
   "version": "3.10.18"
  }
 },
 "nbformat": 4,
 "nbformat_minor": 5
}
